{
 "cells": [
  {
   "cell_type": "code",
   "execution_count": 75,
   "metadata": {},
   "outputs": [],
   "source": [
    "import requests \n",
    "import bs4\n",
    "import pandas as pd\n",
    "import numpy as np"
   ]
  },
  {
   "cell_type": "code",
   "execution_count": 76,
   "metadata": {},
   "outputs": [],
   "source": [
    "EDIBLE_FRUITS_URL = 'https://en.wikipedia.org/wiki/List_of_culinary_fruits'"
   ]
  },
  {
   "cell_type": "code",
   "execution_count": 77,
   "metadata": {},
   "outputs": [
    {
     "name": "stdout",
     "output_type": "stream",
     "text": [
      "Get Successfull\n"
     ]
    }
   ],
   "source": [
    "response = requests.get(EDIBLE_FRUITS_URL)\n",
    "if response.status_code == 200:\n",
    "    print (\"Get Successfull\")\n",
    "else:\n",
    "    print (\"Get Failed\")"
   ]
  },
  {
   "cell_type": "code",
   "execution_count": 78,
   "metadata": {},
   "outputs": [],
   "source": [
    "resp_soap = bs4.BeautifulSoup(response.text)"
   ]
  },
  {
   "cell_type": "code",
   "execution_count": 79,
   "metadata": {},
   "outputs": [
    {
     "data": {
      "text/plain": [
       "<title>List of culinary fruits - Wikipedia</title>"
      ]
     },
     "execution_count": 79,
     "metadata": {},
     "output_type": "execute_result"
    }
   ],
   "source": [
    "resp_soap.title"
   ]
  },
  {
   "cell_type": "markdown",
   "metadata": {},
   "source": [
    "###### Header of the first table"
   ]
  },
  {
   "cell_type": "code",
   "execution_count": 80,
   "metadata": {},
   "outputs": [
    {
     "data": {
      "text/plain": [
       "<tr>\n",
       "<th><a href=\"/wiki/Common_name\" title=\"Common name\">Common name</a>\n",
       "</th>\n",
       "<th><a href=\"/wiki/Binomial_nomenclature\" title=\"Binomial nomenclature\">Species name</a>\n",
       "</th>\n",
       "<th><a href=\"/wiki/Cultivar\" title=\"Cultivar\">Cultivar list</a>\n",
       "</th></tr>"
      ]
     },
     "execution_count": 80,
     "metadata": {},
     "output_type": "execute_result"
    }
   ],
   "source": [
    "resp_soap.table.tbody.tr"
   ]
  },
  {
   "cell_type": "code",
   "execution_count": 81,
   "metadata": {},
   "outputs": [],
   "source": [
    "def add_to_dictionary(table_dict):\n",
    "    \n",
    "    if (row_list[0]) in table_dict:\n",
    "        table_dict[row_list[0]][1] = pos_dict[row_list[0]][1] + \", \" + row_list[2]\n",
    "    else:\n",
    "        table_dict[row_list[0]] = [row_list[1],row_list[2]]"
   ]
  },
  {
   "cell_type": "code",
   "execution_count": 82,
   "metadata": {},
   "outputs": [],
   "source": [
    "def process_row(row,ncolumns=0):\n",
    "    \n",
    "    row_values = []\n",
    "    col_count = 0\n",
    "    for column in row:\n",
    "        \n",
    "        if isinstance(column,bs4.element.Tag): # Avoid processing NavigableString - Mostly newline char      \n",
    "            col_count += 1\n",
    "            row_values.append(column.get_text(strip=True))\n",
    "            \n",
    "        if ncolumns > 0 and col_count >= ncolumns:\n",
    "            break\n",
    "            \n",
    "    return row_values"
   ]
  },
  {
   "cell_type": "code",
   "execution_count": 83,
   "metadata": {},
   "outputs": [],
   "source": [
    "def process_table(soap_msg_table,ncolumns=0):\n",
    "    \n",
    "    row_list = []\n",
    "    for row in soap_msg_table:\n",
    "        \n",
    "        if isinstance(row,bs4.element.Tag): # Avoid processing NavigableString - Mostly newline char\n",
    "            row_list.append(process_row(row,ncolumns))\n",
    "            \n",
    "    #print (row_list)\n",
    "    return row_list"
   ]
  },
  {
   "cell_type": "code",
   "execution_count": 84,
   "metadata": {},
   "outputs": [],
   "source": [
    "all_common_spices = pd.DataFrame()\n",
    "for table in resp_soap.find_all(\"table\"):\n",
    "    common_spices = pd.DataFrame(process_table(table.tbody,ncolumns=3))\n",
    "    header = common_spices.loc[0]\n",
    "    common_spices = common_spices[1:]\n",
    "    all_common_spices = all_common_spices.append(common_spices)\n",
    "all_common_spices.columns = header"
   ]
  },
  {
   "cell_type": "code",
   "execution_count": 85,
   "metadata": {},
   "outputs": [
    {
     "data": {
      "text/html": [
       "<div>\n",
       "<style scoped>\n",
       "    .dataframe tbody tr th:only-of-type {\n",
       "        vertical-align: middle;\n",
       "    }\n",
       "\n",
       "    .dataframe tbody tr th {\n",
       "        vertical-align: top;\n",
       "    }\n",
       "\n",
       "    .dataframe thead th {\n",
       "        text-align: right;\n",
       "    }\n",
       "</style>\n",
       "<table border=\"1\" class=\"dataframe\">\n",
       "  <thead>\n",
       "    <tr style=\"text-align: right;\">\n",
       "      <th></th>\n",
       "      <th>Common name</th>\n",
       "      <th>Species name</th>\n",
       "      <th>Cultivar list</th>\n",
       "    </tr>\n",
       "  </thead>\n",
       "  <tbody>\n",
       "    <tr>\n",
       "      <th>1</th>\n",
       "      <td>Apple</td>\n",
       "      <td>Malus pumila</td>\n",
       "      <td>Apple cultivars</td>\n",
       "    </tr>\n",
       "    <tr>\n",
       "      <th>2</th>\n",
       "      <td>Chinese quince</td>\n",
       "      <td>Pseudocydonia sinensis</td>\n",
       "      <td></td>\n",
       "    </tr>\n",
       "    <tr>\n",
       "      <th>3</th>\n",
       "      <td>Chokeberry</td>\n",
       "      <td>Aronia melanocarpa</td>\n",
       "      <td></td>\n",
       "    </tr>\n",
       "    <tr>\n",
       "      <th>4</th>\n",
       "      <td>Cocky apple</td>\n",
       "      <td>Planchonia careya</td>\n",
       "      <td></td>\n",
       "    </tr>\n",
       "    <tr>\n",
       "      <th>5</th>\n",
       "      <td>Eastern mayhaw</td>\n",
       "      <td>Crataegus aestivalis</td>\n",
       "      <td></td>\n",
       "    </tr>\n",
       "  </tbody>\n",
       "</table>\n",
       "</div>"
      ],
      "text/plain": [
       "0     Common name            Species name    Cultivar list\n",
       "1           Apple            Malus pumila  Apple cultivars\n",
       "2  Chinese quince  Pseudocydonia sinensis                 \n",
       "3      Chokeberry      Aronia melanocarpa                 \n",
       "4     Cocky apple       Planchonia careya                 \n",
       "5  Eastern mayhaw    Crataegus aestivalis                 "
      ]
     },
     "execution_count": 85,
     "metadata": {},
     "output_type": "execute_result"
    }
   ],
   "source": [
    "all_common_spices.head()"
   ]
  },
  {
   "cell_type": "code",
   "execution_count": 86,
   "metadata": {},
   "outputs": [
    {
     "data": {
      "text/plain": [
       "(422, 3)"
      ]
     },
     "execution_count": 86,
     "metadata": {},
     "output_type": "execute_result"
    }
   ],
   "source": [
    "all_common_spices.shape"
   ]
  },
  {
   "cell_type": "code",
   "execution_count": 87,
   "metadata": {},
   "outputs": [
    {
     "data": {
      "text/html": [
       "<div>\n",
       "<style scoped>\n",
       "    .dataframe tbody tr th:only-of-type {\n",
       "        vertical-align: middle;\n",
       "    }\n",
       "\n",
       "    .dataframe tbody tr th {\n",
       "        vertical-align: top;\n",
       "    }\n",
       "\n",
       "    .dataframe thead th {\n",
       "        text-align: right;\n",
       "    }\n",
       "</style>\n",
       "<table border=\"1\" class=\"dataframe\">\n",
       "  <thead>\n",
       "    <tr style=\"text-align: right;\">\n",
       "      <th></th>\n",
       "      <th>Common name</th>\n",
       "      <th>Species name</th>\n",
       "      <th>Cultivar list</th>\n",
       "    </tr>\n",
       "  </thead>\n",
       "  <tbody>\n",
       "    <tr>\n",
       "      <th>7</th>\n",
       "      <td>Saguaro fruit</td>\n",
       "      <td>Carnegiea gigantea</td>\n",
       "      <td></td>\n",
       "    </tr>\n",
       "  </tbody>\n",
       "</table>\n",
       "</div>"
      ],
      "text/plain": [
       "0    Common name        Species name Cultivar list\n",
       "7  Saguaro fruit  Carnegiea gigantea              "
      ]
     },
     "execution_count": 87,
     "metadata": {},
     "output_type": "execute_result"
    }
   ],
   "source": [
    "all_common_spices.loc[all_common_spices['Common name'] == 'Saguaro fruit']"
   ]
  }
 ],
 "metadata": {
  "kernelspec": {
   "display_name": "Python 3",
   "language": "python",
   "name": "python3"
  },
  "language_info": {
   "codemirror_mode": {
    "name": "ipython",
    "version": 3
   },
   "file_extension": ".py",
   "mimetype": "text/x-python",
   "name": "python",
   "nbconvert_exporter": "python",
   "pygments_lexer": "ipython3",
   "version": "3.6.3"
  }
 },
 "nbformat": 4,
 "nbformat_minor": 2
}

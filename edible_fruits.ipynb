{
 "cells": [
  {
   "cell_type": "code",
   "execution_count": 3,
   "metadata": {},
   "outputs": [],
   "source": [
    "import requests \n",
    "import bs4\n",
    "import pandas as pd\n",
    "import numpy as np"
   ]
  },
  {
   "cell_type": "code",
   "execution_count": 4,
   "metadata": {},
   "outputs": [],
   "source": [
    "EDIBLE_FRUITS_URL = 'https://en.wikipedia.org/wiki/List_of_culinary_fruits'"
   ]
  },
  {
   "cell_type": "code",
   "execution_count": 5,
   "metadata": {},
   "outputs": [
    {
     "name": "stdout",
     "output_type": "stream",
     "text": [
      "Get Successfull\n"
     ]
    }
   ],
   "source": [
    "response = requests.get(EDIBLE_FRUITS_URL)\n",
    "if response.status_code == 200:\n",
    "    print (\"Get Successfull\")\n",
    "else:\n",
    "    print (\"Get Failed\")"
   ]
  },
  {
   "cell_type": "code",
   "execution_count": 8,
   "metadata": {},
   "outputs": [],
   "source": [
    "resp_soap = bs4.BeautifulSoup(response.text)"
   ]
  },
  {
   "cell_type": "code",
   "execution_count": 9,
   "metadata": {},
   "outputs": [
    {
     "data": {
      "text/plain": [
       "<title>List of culinary fruits - Wikipedia</title>"
      ]
     },
     "execution_count": 9,
     "metadata": {},
     "output_type": "execute_result"
    }
   ],
   "source": [
    "resp_soap.title"
   ]
  },
  {
   "cell_type": "code",
   "execution_count": 11,
   "metadata": {},
   "outputs": [
    {
     "data": {
      "text/plain": [
       "<table class=\"wikitable sortable\">\n",
       "<tbody><tr>\n",
       "<th><a href=\"/wiki/Common_name\" title=\"Common name\">Common name</a>\n",
       "</th>\n",
       "<th><a href=\"/wiki/Binomial_nomenclature\" title=\"Binomial nomenclature\">Species name</a>\n",
       "</th>\n",
       "<th><a href=\"/wiki/Cultivar\" title=\"Cultivar\">Cultivar list</a>\n",
       "</th></tr>\n",
       "<tr>\n",
       "<td><a href=\"/wiki/Apple\" title=\"Apple\">Apple</a>\n",
       "</td>\n",
       "<td><i>Malus pumila</i>\n",
       "</td>\n",
       "<td><a href=\"/wiki/List_of_apple_cultivars\" title=\"List of apple cultivars\">Apple cultivars</a>\n",
       "</td></tr>\n",
       "<tr>\n",
       "<td><a class=\"mw-redirect\" href=\"/wiki/Chinese_quince\" title=\"Chinese quince\">Chinese quince</a>\n",
       "</td>\n",
       "<td><i>Pseudocydonia sinensis</i>\n",
       "</td>\n",
       "<td>\n",
       "</td></tr>\n",
       "<tr>\n",
       "<td><a class=\"mw-redirect\" href=\"/wiki/Chokeberry\" title=\"Chokeberry\">Chokeberry</a>\n",
       "</td>\n",
       "<td><i>Aronia melanocarpa</i>\n",
       "</td>\n",
       "<td>\n",
       "</td></tr>\n",
       "<tr>\n",
       "<td><a class=\"mw-redirect\" href=\"/wiki/Cocky_apple\" title=\"Cocky apple\">Cocky apple</a>\n",
       "</td>\n",
       "<td><i>Planchonia careya</i>\n",
       "</td>\n",
       "<td>\n",
       "</td></tr>\n",
       "<tr>\n",
       "<td><a href=\"/wiki/Crataegus_aestivalis\" title=\"Crataegus aestivalis\">Eastern mayhaw</a>\n",
       "</td>\n",
       "<td><i>Crataegus aestivalis</i>\n",
       "</td>\n",
       "<td>\n",
       "</td></tr>\n",
       "<tr>\n",
       "<td><a href=\"/wiki/Crataegus\" title=\"Crataegus\">Hawthorn</a>\n",
       "</td>\n",
       "<td><i>Crataegus rhipidophylla</i>\n",
       "</td>\n",
       "<td>\n",
       "</td></tr>\n",
       "<tr>\n",
       "<td><a href=\"/wiki/Genipa_americana\" title=\"Genipa americana\">Jagua</a>\n",
       "</td>\n",
       "<td><i>Genipa americana</i>\n",
       "</td>\n",
       "<td>\n",
       "</td></tr>\n",
       "<tr>\n",
       "<td><a href=\"/wiki/Loquat\" title=\"Loquat\">Loquat</a>\n",
       "</td>\n",
       "<td><i>Eriobotrya japonica</i>\n",
       "</td>\n",
       "<td>\n",
       "</td></tr>\n",
       "<tr>\n",
       "<td><a href=\"/wiki/Flacourtia_inermis\" title=\"Flacourtia inermis\">Lovi-lovi</a>\n",
       "</td>\n",
       "<td><i>Flacourtia inermis</i>\n",
       "</td>\n",
       "<td>\n",
       "</td></tr>\n",
       "<tr>\n",
       "<td><a class=\"mw-redirect\" href=\"/wiki/Medlar\" title=\"Medlar\">Medlar</a>\n",
       "</td>\n",
       "<td><i>Mespilus germanica</i>\n",
       "</td>\n",
       "<td>\n",
       "</td></tr>\n",
       "<tr>\n",
       "<td><a href=\"/wiki/Malus_niedzwetzkyana\" title=\"Malus niedzwetzkyana\">Niedzwetzky's apple</a>\n",
       "</td>\n",
       "<td><i>Malus niedzwetzkyana</i>\n",
       "</td>\n",
       "<td>\n",
       "</td></tr>\n",
       "<tr>\n",
       "<td><a href=\"/wiki/Pear\" title=\"Pear\">Pear</a>\n",
       "</td>\n",
       "<td><i>Pyrus communis</i>\n",
       "</td>\n",
       "<td><a href=\"/wiki/List_of_pear_cultivars\" title=\"List of pear cultivars\">Pear cultivars</a>\n",
       "</td></tr>\n",
       "<tr>\n",
       "<td><a href=\"/wiki/Quince\" title=\"Quince\">Quince</a>\n",
       "</td>\n",
       "<td><i>Cydonia oblonga</i>\n",
       "</td>\n",
       "<td>\n",
       "</td></tr>\n",
       "<tr>\n",
       "<td><a class=\"mw-redirect\" href=\"/wiki/Ramontchi\" title=\"Ramontchi\">Ramontchi</a>\n",
       "</td>\n",
       "<td><i>Flacourtia indica</i>\n",
       "</td>\n",
       "<td>\n",
       "</td></tr>\n",
       "<tr>\n",
       "<td><a href=\"/wiki/Rose_hip\" title=\"Rose hip\">Rose hip</a>\n",
       "</td>\n",
       "<td><i>Rosa rugosa</i>\n",
       "</td>\n",
       "<td>\n",
       "</td></tr>\n",
       "<tr>\n",
       "<td><a href=\"/wiki/Rowan\" title=\"Rowan\">Rowan</a>\n",
       "</td>\n",
       "<td><i>Sorbus aucuparia</i>\n",
       "</td>\n",
       "<td>\n",
       "</td></tr>\n",
       "<tr>\n",
       "<td><a class=\"mw-redirect\" href=\"/wiki/Sapodilla\" title=\"Sapodilla\">Sapodilla</a>\n",
       "</td>\n",
       "<td><i>Manilkara zapota</i>\n",
       "</td>\n",
       "<td>\n",
       "</td></tr>\n",
       "<tr>\n",
       "<td><a class=\"mw-redirect\" href=\"/wiki/Serviceberry\" title=\"Serviceberry\">Serviceberry</a>\n",
       "</td>\n",
       "<td><i>Amelanchier alnifolia</i>\n",
       "</td>\n",
       "<td>\n",
       "</td></tr>\n",
       "<tr>\n",
       "<td><a href=\"/wiki/Shipova\" title=\"Shipova\">Shipova</a>\n",
       "</td>\n",
       "<td><i>× Sorbopyrus irregularis</i>\n",
       "</td>\n",
       "<td>\n",
       "</td></tr>\n",
       "<tr>\n",
       "<td><a href=\"/wiki/Sorbus_domestica\" title=\"Sorbus domestica\">Sorb</a>\n",
       "</td>\n",
       "<td><i>Sorbus domestica</i>\n",
       "</td>\n",
       "<td>\n",
       "</td></tr>\n",
       "<tr>\n",
       "<td><a class=\"mw-redirect\" href=\"/wiki/Southern_crabapple\" title=\"Southern crabapple\">Southern crabapple</a>\n",
       "</td>\n",
       "<td><i>Malus angustifolia</i>\n",
       "</td>\n",
       "<td>\n",
       "</td></tr>\n",
       "<tr>\n",
       "<td><a class=\"mw-redirect\" href=\"/wiki/Toyon\" title=\"Toyon\">Toyon</a>\n",
       "</td>\n",
       "<td><i>Heteromeles arbutifolia</i>\n",
       "</td>\n",
       "<td>\n",
       "</td></tr></tbody></table>"
      ]
     },
     "execution_count": 11,
     "metadata": {},
     "output_type": "execute_result"
    }
   ],
   "source": [
    "resp_soap.table"
   ]
  }
 ],
 "metadata": {
  "kernelspec": {
   "display_name": "Python 3",
   "language": "python",
   "name": "python3"
  },
  "language_info": {
   "codemirror_mode": {
    "name": "ipython",
    "version": 3
   },
   "file_extension": ".py",
   "mimetype": "text/x-python",
   "name": "python",
   "nbconvert_exporter": "python",
   "pygments_lexer": "ipython3",
   "version": "3.6.3"
  }
 },
 "nbformat": 4,
 "nbformat_minor": 2
}
